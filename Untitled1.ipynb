{
 "cells": [
  {
   "cell_type": "code",
   "execution_count": 4,
   "id": "925bb173",
   "metadata": {},
   "outputs": [],
   "source": [
    "def get_mapsize(cluster):\n",
    "    a = 1\n",
    "    b = cluster\n",
    "    return (b,a)"
   ]
  },
  {
   "cell_type": "code",
   "execution_count": 7,
   "id": "af36553a",
   "metadata": {},
   "outputs": [],
   "source": [
    "map_size = get_mapsize(cluster=100)"
   ]
  },
  {
   "cell_type": "code",
   "execution_count": 8,
   "id": "b7d5952a",
   "metadata": {},
   "outputs": [
    {
     "data": {
      "text/plain": [
       "(100, 1)"
      ]
     },
     "execution_count": 8,
     "metadata": {},
     "output_type": "execute_result"
    }
   ],
   "source": [
    "map_size"
   ]
  },
  {
   "cell_type": "code",
   "execution_count": 9,
   "id": "9f8b3c8c",
   "metadata": {},
   "outputs": [],
   "source": [
    "def convert_to_base(number_list, map_size):\n",
    "    converted_numbers = []\n",
    "    for number in number_list:\n",
    "        converted_numbers.append((number[0] * map_size[1] + number[1])+1)\n",
    "\n",
    "    return converted_numbers"
   ]
  },
  {
   "cell_type": "code",
   "execution_count": 22,
   "id": "4c2f8057",
   "metadata": {},
   "outputs": [
    {
     "data": {
      "text/plain": [
       "[2]"
      ]
     },
     "execution_count": 22,
     "metadata": {},
     "output_type": "execute_result"
    }
   ],
   "source": [
    "convert_to_base([(1,0)],map_size)"
   ]
  },
  {
   "cell_type": "code",
   "execution_count": 25,
   "id": "335545e7",
   "metadata": {},
   "outputs": [
    {
     "data": {
      "text/plain": [
       "array([[0.81305452, 0.64579874, 0.71361948],\n",
       "       [0.68506332, 0.53190948, 0.41993428]])"
      ]
     },
     "execution_count": 25,
     "metadata": {},
     "output_type": "execute_result"
    }
   ],
   "source": [
    "\n",
    "np.random.rand(2,3)"
   ]
  },
  {
   "cell_type": "code",
   "execution_count": null,
   "id": "75e0d13f",
   "metadata": {},
   "outputs": [],
   "source": []
  }
 ],
 "metadata": {
  "kernelspec": {
   "display_name": "Python 3 (ipykernel)",
   "language": "python",
   "name": "python3"
  },
  "language_info": {
   "codemirror_mode": {
    "name": "ipython",
    "version": 3
   },
   "file_extension": ".py",
   "mimetype": "text/x-python",
   "name": "python",
   "nbconvert_exporter": "python",
   "pygments_lexer": "ipython3",
   "version": "3.9.13"
  }
 },
 "nbformat": 4,
 "nbformat_minor": 5
}
