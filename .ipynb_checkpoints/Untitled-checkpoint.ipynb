{
 "cells": [
  {
   "cell_type": "code",
   "execution_count": 2,
   "id": "55f9b90a",
   "metadata": {},
   "outputs": [],
   "source": [
    "import concurrent.futures\n",
    "import pandas as pd\n",
    "from sklearn.feature_extraction.text import TfidfVectorizer\n",
    "from TFIDF import tf_idf\n",
    "from SOM import SOM\n",
    "from sklearn.model_selection import train_test_split\n",
    "from sklearn.decomposition import PCA"
   ]
  },
  {
   "cell_type": "code",
   "execution_count": 5,
   "id": "d2c902b6",
   "metadata": {},
   "outputs": [],
   "source": [
    "map_size = (10, 10)\n",
    "df = pd.read_excel('Data.xlsx', sheet_name='Sheet')\n",
    "docs = df['متن'].to_list()\n",
    "docs, docs_test = train_test_split(docs, test_size=0.0005, random_state=42)\n",
    "x, docs = train_test_split(docs, test_size=0.001, random_state=42)"
   ]
  },
  {
   "cell_type": "code",
   "execution_count": null,
   "id": "b1a4de5c",
   "metadata": {},
   "outputs": [],
   "source": [
    "with concurrent.futures.ThreadPoolExecutor(max_workers=100) as executor:\n",
    "    # Submit the tf_idf function for each document in the list\n",
    "    future_results = [executor.submit(tf_idf, document) for document in docs_test]\n",
    "\n",
    "    # Get the results as they become available\n",
    "    for future in concurrent.futures.as_completed(future_results):\n",
    "        docs_test = future.result()\n"
   ]
  },
  {
   "cell_type": "code",
   "execution_count": 3,
   "id": "fb3059db",
   "metadata": {},
   "outputs": [],
   "source": [
    "with concurrent.futures.ThreadPoolExecutor(max_workers=20) as executor:\n",
    "    # Submit the tf_idf function for each document in the list\n",
    "    future_results = [executor.submit(tf_idf, document) for document in docs_test]\n",
    "\n",
    "    # Get the results as they become available\n",
    "    for future in concurrent.futures.as_completed(future_results):\n",
    "        docs_test = future.result()\n"
   ]
  },
  {
   "cell_type": "code",
   "execution_count": 6,
   "id": "1f16101b",
   "metadata": {},
   "outputs": [],
   "source": [
    "with concurrent.futures.ThreadPoolExecutor(max_workers=20) as executor:\n",
    "    # Submit the tf_idf function for each document in the list\n",
    "    future_results = [executor.submit(tf_idf, document) for document in docs]\n",
    "\n",
    "    # Get the results as they become available\n",
    "    for future in concurrent.futures.as_completed(future_results):\n",
    "        docs = future.result()"
   ]
  },
  {
   "cell_type": "code",
   "execution_count": 7,
   "id": "47b2c5a5",
   "metadata": {},
   "outputs": [
    {
     "ename": "ValueError",
     "evalue": "Iterable over raw text documents expected, string object received.",
     "output_type": "error",
     "traceback": [
      "\u001b[1;31m---------------------------------------------------------------------------\u001b[0m",
      "\u001b[1;31mValueError\u001b[0m                                Traceback (most recent call last)",
      "\u001b[1;32m~\\AppData\\Local\\Temp\\ipykernel_1560\\2241875267.py\u001b[0m in \u001b[0;36m<module>\u001b[1;34m\u001b[0m\n\u001b[0;32m      1\u001b[0m \u001b[0mvectorizer\u001b[0m \u001b[1;33m=\u001b[0m \u001b[0mTfidfVectorizer\u001b[0m\u001b[1;33m(\u001b[0m\u001b[1;33m)\u001b[0m\u001b[1;33m\u001b[0m\u001b[1;33m\u001b[0m\u001b[0m\n\u001b[1;32m----> 2\u001b[1;33m \u001b[0mtfidf_vectors\u001b[0m \u001b[1;33m=\u001b[0m \u001b[0mvectorizer\u001b[0m\u001b[1;33m.\u001b[0m\u001b[0mfit_transform\u001b[0m\u001b[1;33m(\u001b[0m\u001b[0mdocs\u001b[0m\u001b[1;33m)\u001b[0m\u001b[1;33m.\u001b[0m\u001b[0mtoarray\u001b[0m\u001b[1;33m(\u001b[0m\u001b[1;33m)\u001b[0m\u001b[1;33m\u001b[0m\u001b[1;33m\u001b[0m\u001b[0m\n\u001b[0m",
      "\u001b[1;32m~\\Anaconda3\\lib\\site-packages\\sklearn\\feature_extraction\\text.py\u001b[0m in \u001b[0;36mfit_transform\u001b[1;34m(self, raw_documents, y)\u001b[0m\n\u001b[0;32m   2075\u001b[0m         \"\"\"\n\u001b[0;32m   2076\u001b[0m         \u001b[0mself\u001b[0m\u001b[1;33m.\u001b[0m\u001b[0m_check_params\u001b[0m\u001b[1;33m(\u001b[0m\u001b[1;33m)\u001b[0m\u001b[1;33m\u001b[0m\u001b[1;33m\u001b[0m\u001b[0m\n\u001b[1;32m-> 2077\u001b[1;33m         \u001b[0mX\u001b[0m \u001b[1;33m=\u001b[0m \u001b[0msuper\u001b[0m\u001b[1;33m(\u001b[0m\u001b[1;33m)\u001b[0m\u001b[1;33m.\u001b[0m\u001b[0mfit_transform\u001b[0m\u001b[1;33m(\u001b[0m\u001b[0mraw_documents\u001b[0m\u001b[1;33m)\u001b[0m\u001b[1;33m\u001b[0m\u001b[1;33m\u001b[0m\u001b[0m\n\u001b[0m\u001b[0;32m   2078\u001b[0m         \u001b[0mself\u001b[0m\u001b[1;33m.\u001b[0m\u001b[0m_tfidf\u001b[0m\u001b[1;33m.\u001b[0m\u001b[0mfit\u001b[0m\u001b[1;33m(\u001b[0m\u001b[0mX\u001b[0m\u001b[1;33m)\u001b[0m\u001b[1;33m\u001b[0m\u001b[1;33m\u001b[0m\u001b[0m\n\u001b[0;32m   2079\u001b[0m         \u001b[1;31m# X is already a transformed view of raw_documents so\u001b[0m\u001b[1;33m\u001b[0m\u001b[1;33m\u001b[0m\u001b[0m\n",
      "\u001b[1;32m~\\Anaconda3\\lib\\site-packages\\sklearn\\feature_extraction\\text.py\u001b[0m in \u001b[0;36mfit_transform\u001b[1;34m(self, raw_documents, y)\u001b[0m\n\u001b[0;32m   1307\u001b[0m         \u001b[1;31m# TfidfVectorizer.\u001b[0m\u001b[1;33m\u001b[0m\u001b[1;33m\u001b[0m\u001b[0m\n\u001b[0;32m   1308\u001b[0m         \u001b[1;32mif\u001b[0m \u001b[0misinstance\u001b[0m\u001b[1;33m(\u001b[0m\u001b[0mraw_documents\u001b[0m\u001b[1;33m,\u001b[0m \u001b[0mstr\u001b[0m\u001b[1;33m)\u001b[0m\u001b[1;33m:\u001b[0m\u001b[1;33m\u001b[0m\u001b[1;33m\u001b[0m\u001b[0m\n\u001b[1;32m-> 1309\u001b[1;33m             raise ValueError(\n\u001b[0m\u001b[0;32m   1310\u001b[0m                 \u001b[1;34m\"Iterable over raw text documents expected, string object received.\"\u001b[0m\u001b[1;33m\u001b[0m\u001b[1;33m\u001b[0m\u001b[0m\n\u001b[0;32m   1311\u001b[0m             )\n",
      "\u001b[1;31mValueError\u001b[0m: Iterable over raw text documents expected, string object received."
     ]
    }
   ],
   "source": [
    "vectorizer = TfidfVectorizer()\n",
    "tfidf_vectors = vectorizer.fit_transform(docs).toarray()"
   ]
  },
  {
   "cell_type": "code",
   "execution_count": 4,
   "id": "3c6f338d",
   "metadata": {},
   "outputs": [
    {
     "ename": "NameError",
     "evalue": "name 'tfidf_vectors' is not defined",
     "output_type": "error",
     "traceback": [
      "\u001b[1;31m---------------------------------------------------------------------------\u001b[0m",
      "\u001b[1;31mNameError\u001b[0m                                 Traceback (most recent call last)",
      "\u001b[1;32m~\\AppData\\Local\\Temp\\ipykernel_1560\\715982474.py\u001b[0m in \u001b[0;36m<module>\u001b[1;34m\u001b[0m\n\u001b[0;32m      1\u001b[0m \u001b[1;31m# Apply PCA transformation\u001b[0m\u001b[1;33m\u001b[0m\u001b[1;33m\u001b[0m\u001b[0m\n\u001b[0;32m      2\u001b[0m \u001b[0mpca\u001b[0m \u001b[1;33m=\u001b[0m \u001b[0mPCA\u001b[0m\u001b[1;33m(\u001b[0m\u001b[0mn_components\u001b[0m\u001b[1;33m=\u001b[0m\u001b[1;36m2\u001b[0m\u001b[1;33m)\u001b[0m\u001b[1;33m\u001b[0m\u001b[1;33m\u001b[0m\u001b[0m\n\u001b[1;32m----> 3\u001b[1;33m \u001b[0mdocs_vector\u001b[0m \u001b[1;33m=\u001b[0m \u001b[0mpca\u001b[0m\u001b[1;33m.\u001b[0m\u001b[0mfit_transform\u001b[0m\u001b[1;33m(\u001b[0m\u001b[0mtfidf_vectors\u001b[0m\u001b[1;33m)\u001b[0m\u001b[1;33m\u001b[0m\u001b[1;33m\u001b[0m\u001b[0m\n\u001b[0m",
      "\u001b[1;31mNameError\u001b[0m: name 'tfidf_vectors' is not defined"
     ]
    }
   ],
   "source": [
    "# Apply PCA transformation\n",
    "pca = PCA(n_components=2)\n",
    "docs_vector = pca.fit_transform(tfidf_vectors)"
   ]
  },
  {
   "cell_type": "code",
   "execution_count": null,
   "id": "2d5c2544",
   "metadata": {},
   "outputs": [],
   "source": [
    "# For test documents\n",
    "test_tfidf_vectors = vectorizer.transform(docs_test).toarray()\n",
    "test_docs_vector = pca.transform(test_tfidf_vectors)"
   ]
  },
  {
   "cell_type": "code",
   "execution_count": 1,
   "id": "0bb8e515",
   "metadata": {},
   "outputs": [],
   "source": [
    "import numpy as np\n",
    "from SOM import SOM\n",
    "import pandas as pd\n",
    "from sklearn.feature_extraction.text import TfidfVectorizer\n",
    "from TFIDF import tf_idf\n",
    "from sklearn.decomposition import PCA\n",
    "import multiprocessing\n",
    "\n",
    "def preprocess_documents(documents):\n",
    "    pool = multiprocessing.Pool()\n",
    "    preprocessed_docs = pool.map(tf_idf, documents)\n",
    "    pool.close()\n",
    "    pool.join()\n",
    "    return preprocessed_docs\n",
    "\n"
   ]
  },
  {
   "cell_type": "code",
   "execution_count": 9,
   "id": "184f0df5",
   "metadata": {},
   "outputs": [],
   "source": [
    "import numpy as np\n",
    "from hazm import WordTokenizer, Lemmatizer\n",
    "from hazm.utils import stopwords_list\n",
    "from sklearn.feature_extraction.text import TfidfVectorizer\n",
    "\n",
    "def preprocess_documents(documents):\n",
    "    tokenizer = WordTokenizer()\n",
    "    lemmatizer = Lemmatizer()\n",
    "    stop_words = stopwords_list()\n",
    "    preprocessed_docs = []\n",
    "\n",
    "    batch_size = 100  # Number of documents to process in each batch\n",
    "\n",
    "    for i in range(0, len(documents), batch_size):\n",
    "        batch_docs = documents[i:i+batch_size]\n",
    "\n",
    "        # Tokenize, lemmatize, and remove stopwords for each document in the batch\n",
    "        batch_tokens = []\n",
    "        for doc in batch_docs:\n",
    "            tokens = tokenizer.tokenize(doc)\n",
    "            tokens = [lemmatizer.lemmatize(token) for token in tokens]\n",
    "            tokens = [token for token in tokens if token not in stop_words]\n",
    "            text_clean = ' '.join(tokens)\n",
    "            batch_tokens.append(text_clean)\n",
    "\n",
    "        preprocessed_docs.extend(batch_tokens)\n",
    "\n",
    "    return preprocessed_docs\n"
   ]
  },
  {
   "cell_type": "code",
   "execution_count": 3,
   "id": "097a4f87",
   "metadata": {},
   "outputs": [],
   "source": [
    "# Read the Excel file and extract the documents\n",
    "df = pd.read_excel('Data.xlsx', sheet_name='Sheet') \n",
    "docs = df['متن'].to_list()\n"
   ]
  },
  {
   "cell_type": "code",
   "execution_count": 4,
   "id": "e304789c",
   "metadata": {},
   "outputs": [],
   "source": [
    "docs, docs_test = train_test_split(docs, test_size=0.2, random_state=42) "
   ]
  },
  {
   "cell_type": "code",
   "execution_count": null,
   "id": "21c6c18d",
   "metadata": {},
   "outputs": [],
   "source": [
    "docs = preprocess_documents(docs)\n",
    "docs_test = preprocess_documents(docs_test)"
   ]
  },
  {
   "cell_type": "code",
   "execution_count": 13,
   "id": "52749e23",
   "metadata": {},
   "outputs": [],
   "source": [
    "vectorizer = TfidfVectorizer()\n",
    "tfidf_vectors = vectorizer.fit_transform(docs).toarray()"
   ]
  },
  {
   "cell_type": "code",
   "execution_count": null,
   "id": "963b6955",
   "metadata": {},
   "outputs": [],
   "source": [
    "pca = PCA(n_components=2)\n",
    "docs_vector = pca.fit_transform(tfidf_vectors)"
   ]
  },
  {
   "cell_type": "code",
   "execution_count": 14,
   "id": "cd069609",
   "metadata": {},
   "outputs": [],
   "source": [
    "map_size = (10, 10)\n",
    "input_dim = docs_vector.shape[1]\n",
    "som = SOM(input_dim, map_size)"
   ]
  },
  {
   "cell_type": "code",
   "execution_count": null,
   "id": "909e7a0c",
   "metadata": {},
   "outputs": [],
   "source": [
    "#pca = PCA(n_components=2)\n",
    "#docs_vector = pca.fit_transform(docs)"
   ]
  },
  {
   "cell_type": "code",
   "execution_count": null,
   "id": "7eb3f5bf",
   "metadata": {},
   "outputs": [],
   "source": [
    "num_epochs = 10\n",
    "som.train(docs_vector, num_epochs)"
   ]
  },
  {
   "cell_type": "code",
   "execution_count": 40,
   "id": "fb695e11",
   "metadata": {},
   "outputs": [],
   "source": [
    "docs_test = preprocess_documents(docs_test)\n",
    "test_tfidf_vectors = vectorizer.transform(docs_test).toarray()\n",
    "test_docs_vector = pca.transform(test_tfidf_vectors)"
   ]
  },
  {
   "cell_type": "code",
   "execution_count": 41,
   "id": "57427c3a",
   "metadata": {},
   "outputs": [
    {
     "name": "stdout",
     "output_type": "stream",
     "text": [
      "[[7 5]\n",
      " [8 3]\n",
      " [9 4]\n",
      " [6 9]\n",
      " [9 5]\n",
      " [1 4]\n",
      " [7 4]\n",
      " [7 4]\n",
      " [0 2]\n",
      " [8 3]\n",
      " [6 8]\n",
      " [5 5]\n",
      " [1 4]\n",
      " [4 6]\n",
      " [7 7]\n",
      " [6 4]\n",
      " [6 8]\n",
      " [9 8]\n",
      " [1 4]\n",
      " [5 5]\n",
      " [8 3]\n",
      " [4 6]\n",
      " [8 3]\n",
      " [6 3]\n",
      " [6 4]\n",
      " [5 4]\n",
      " [7 0]\n",
      " [9 8]\n",
      " [6 8]\n",
      " [8 3]\n",
      " [4 6]\n",
      " [7 5]\n",
      " [6 9]\n",
      " [1 9]\n",
      " [6 0]\n",
      " [1 5]\n",
      " [7 3]\n",
      " [1 9]\n",
      " [6 4]\n",
      " [8 3]\n",
      " [6 9]\n",
      " [8 8]\n",
      " [8 8]\n",
      " [9 8]\n",
      " [0 9]\n",
      " [8 3]\n",
      " [8 4]\n",
      " [9 4]\n",
      " [8 3]\n",
      " [7 7]\n",
      " [2 7]\n",
      " [7 4]\n",
      " [9 8]\n",
      " [7 5]\n",
      " [4 6]\n",
      " [7 5]\n",
      " [7 3]\n",
      " [7 4]\n",
      " [0 3]\n",
      " [8 3]\n",
      " [3 6]]\n"
     ]
    }
   ],
   "source": [
    "cluster_labels = som.cluster(test_docs_vector)\n",
    "print(cluster_labels)"
   ]
  },
  {
   "cell_type": "code",
   "execution_count": null,
   "id": "0e959192",
   "metadata": {},
   "outputs": [],
   "source": []
  }
 ],
 "metadata": {
  "kernelspec": {
   "display_name": "Python 3 (ipykernel)",
   "language": "python",
   "name": "python3"
  },
  "language_info": {
   "codemirror_mode": {
    "name": "ipython",
    "version": 3
   },
   "file_extension": ".py",
   "mimetype": "text/x-python",
   "name": "python",
   "nbconvert_exporter": "python",
   "pygments_lexer": "ipython3",
   "version": "3.9.13"
  }
 },
 "nbformat": 4,
 "nbformat_minor": 5
}
